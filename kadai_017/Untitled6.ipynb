{
  "nbformat": 4,
  "nbformat_minor": 0,
  "metadata": {
    "colab": {
      "provenance": []
    },
    "kernelspec": {
      "name": "python3",
      "display_name": "Python 3"
    },
    "language_info": {
      "name": "python"
    }
  },
  "cells": [
    {
      "cell_type": "code",
      "execution_count": null,
      "metadata": {
        "colab": {
          "base_uri": "https://localhost:8080/"
        },
        "id": "pqp2WzsUcgaP",
        "outputId": "eec3c7dd-3ba1-4daa-dc7e-496f1e922d31"
      },
      "outputs": [
        {
          "output_type": "stream",
          "name": "stdout",
          "text": [
            "大人である\n",
            "大人でない\n",
            "大人でない\n"
          ]
        }
      ],
      "source": [
        "class Human:\n",
        "    def __init__(self, name, age):\n",
        "        self.name = name\n",
        "        self.age = age\n",
        "    def check_adult(self):\n",
        "      if self.age > 20:\n",
        "        print(\"大人である\")\n",
        "      else:\n",
        "        print(\"大人でない\")\n",
        "\n",
        "human1 =Human(\"侍太郎\", 36)\n",
        "human2 =Human(\"侍二郎\", 20)\n",
        "human3 =Human(\"侍三郎\", 15)\n",
        "\n",
        "human_list = [human1, human2, human3]\n",
        "\n",
        "for human in human_list:\n",
        " human.check_adult()\n",
        "\n"
      ]
    }
  ]
}