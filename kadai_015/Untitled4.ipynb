{
  "nbformat": 4,
  "nbformat_minor": 0,
  "metadata": {
    "colab": {
      "provenance": []
    },
    "kernelspec": {
      "name": "python3",
      "display_name": "Python 3"
    },
    "language_info": {
      "name": "python"
    }
  },
  "cells": [
    {
      "cell_type": "code",
      "execution_count": null,
      "metadata": {
        "id": "pMhDIK-DpEJa",
        "colab": {
          "base_uri": "https://localhost:8080/"
        },
        "outputId": "9bc42bad-0a98-48b2-8b39-a436ce76a112"
      },
      "outputs": [
        {
          "output_type": "stream",
          "name": "stdout",
          "text": [
            "侍太郎\n",
            "26\n"
          ]
        }
      ],
      "source": [
        "class Human :\n",
        "  def __init__(self,name,age):\n",
        "    self.name=name\n",
        "    self.age=age\n",
        "\n",
        "  def printinfo(self):\n",
        "   print(self.name)\n",
        "   print(self.age)\n",
        "\n",
        "human=Human(\"侍太郎\",26)\n",
        "human.printinfo()"
      ]
    }
  ]
}