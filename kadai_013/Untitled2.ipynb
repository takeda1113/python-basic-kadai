{
  "nbformat": 4,
  "nbformat_minor": 0,
  "metadata": {
    "colab": {
      "provenance": []
    },
    "kernelspec": {
      "name": "python3",
      "display_name": "Python 3"
    },
    "language_info": {
      "name": "python"
    }
  },
  "cells": [
    {
      "cell_type": "code",
      "execution_count": null,
      "metadata": {
        "id": "1gKXk6MtH3jG",
        "colab": {
          "base_uri": "https://localhost:8080/"
        },
        "outputId": "7ad630d0-a240-4754-fb43-f4fbb62c2e91"
      },
      "outputs": [
        {
          "output_type": "execute_result",
          "data": {
            "text/plain": [
              "1100"
            ]
          },
          "metadata": {},
          "execution_count": 5
        }
      ],
      "source": [
        "def calculate_total(price,tax):\n",
        " tax=tax / 100\n",
        " total_price=int((price *tax)) + price\n",
        " return total_price\n",
        "calculate_total(1000,10)"
      ]
    }
  ]
}