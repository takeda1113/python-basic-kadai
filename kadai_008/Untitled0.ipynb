{
  "nbformat": 4,
  "nbformat_minor": 0,
  "metadata": {
    "colab": {
      "provenance": []
    },
    "kernelspec": {
      "name": "python3",
      "display_name": "Python 3"
    },
    "language_info": {
      "name": "python"
    }
  },
  "cells": [
    {
      "cell_type": "code",
      "execution_count": null,
      "metadata": {
        "colab": {
          "base_uri": "https://localhost:8080/"
        },
        "id": "hMQEJocG4xou",
        "outputId": "ba873af9-b752-4fe1-cad3-47353ee1c26e"
      },
      "outputs": [
        {
          "output_type": "stream",
          "name": "stdout",
          "text": [
            "Fizz\n"
          ]
        }
      ],
      "source": [
        "import random\n",
        "#var = random.randint(0,100)\n",
        "var=3\n",
        "if var % 3 == 0 and var % 5 ==0:\n",
        " print(\"FizzBuzz\")\n",
        "elif var % 3==0 :\n",
        " print(\"Fizz\")\n",
        "elif var % 5 == 0:\n",
        " print(\"Buzz\")\n",
        "else:\n",
        " print(var)"
      ]
    }
  ]
}